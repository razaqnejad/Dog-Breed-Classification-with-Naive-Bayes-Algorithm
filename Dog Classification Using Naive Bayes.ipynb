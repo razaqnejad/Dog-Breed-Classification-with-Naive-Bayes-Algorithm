{
 "cells": [
  {
   "cell_type": "markdown",
   "metadata": {},
   "source": [
    "# Dog Breed Classification with Naive Bayes Algorithm"
   ]
  },
  {
   "cell_type": "markdown",
   "metadata": {},
   "source": [
    "##### Fatemeh Razaqnejad\n",
    "Utilize the Naive Bayes classifier to categorize dog breeds by analyzing continuous and discrete features such as weight, height, and bark frequency, leveraging Gaussian, uniform, and binomial distributions."
   ]
  },
  {
   "cell_type": "markdown",
   "metadata": {},
   "source": [
    "#### Import necessary libraries"
   ]
  },
  {
   "cell_type": "code",
   "execution_count": null,
   "metadata": {},
   "outputs": [],
   "source": [
    "import pandas as pd\n",
    "import numpy as np\n",
    "from scipy.stats import norm, binom, uniform\n",
    "import os"
   ]
  },
  {
   "cell_type": "markdown",
   "metadata": {},
   "source": [
    "#### Load the data"
   ]
  },
  {
   "cell_type": "code",
   "execution_count": null,
   "metadata": {},
   "outputs": [],
   "source": [
    "# Replace 'dogs.csv' with the actual path to your dataset if necessary\n",
    "dogs_data = pd.read_csv('dogs.csv')"
   ]
  },
  {
   "cell_type": "markdown",
   "metadata": {},
   "source": [
    "#### Functions to calculate distribution parameters"
   ]
  },
  {
   "cell_type": "code",
   "execution_count": null,
   "metadata": {},
   "outputs": [],
   "source": [
    "def calculate_gaussian_params(data):\n",
    "    mean = np.mean(data)\n",
    "    variance = np.var(data)\n",
    "    return mean, variance\n",
    "\n",
    "def calculate_binomial_params(data, n):\n",
    "    p = np.mean(data) / n\n",
    "    return p, n\n",
    "\n",
    "def calculate_uniform_params(data):\n",
    "    a = np.min(data)\n",
    "    b = np.max(data)\n",
    "    return a, b"
   ]
  },
  {
   "cell_type": "markdown",
   "metadata": {},
   "source": [
    "#### Calculate parameters for each category"
   ]
  },
  {
   "cell_type": "code",
   "execution_count": null,
   "metadata": {},
   "outputs": [],
   "source": [
    "categories = dogs_data['class'].unique()\n",
    "params = {}\n",
    "\n",
    "n_trials = 30  # Total number of trials for bark_days\n",
    "\n",
    "for category in categories:\n",
    "    category_data = dogs_data[dogs_data['class'] == category]\n",
    "    params[category] = {\n",
    "        'height': calculate_gaussian_params(category_data['height']),\n",
    "        'weight': calculate_gaussian_params(category_data['weight']),\n",
    "        'bark_days': calculate_binomial_params(category_data['bark_days'], n_trials),\n",
    "        'ear_head_ratio': calculate_uniform_params(category_data['ear_head_ratio']),\n",
    "    }"
   ]
  },
  {
   "cell_type": "markdown",
   "metadata": {},
   "source": [
    "#### Function to classify a sample based on calculated parameters"
   ]
  },
  {
   "cell_type": "code",
   "execution_count": null,
   "metadata": {},
   "outputs": [],
   "source": [
    "def classify(sample, params):\n",
    "    epsilon = 1e-10  # Small value to prevent zero probability\n",
    "    probabilities = {}\n",
    "    \n",
    "    for category in params:\n",
    "        height_mu, height_var = params[category]['height']\n",
    "        weight_mu, weight_var = params[category]['weight']\n",
    "        bark_days_p, bark_days_n = params[category]['bark_days']\n",
    "        ear_head_ratio_a, ear_head_ratio_b = params[category]['ear_head_ratio']\n",
    "        \n",
    "        height_prob = norm.pdf(sample['height'], height_mu, np.sqrt(height_var))\n",
    "        weight_prob = norm.pdf(sample['weight'], weight_mu, np.sqrt(weight_var))\n",
    "        bark_days_prob = binom.pmf(sample['bark_days'], bark_days_n, bark_days_p)\n",
    "        ear_head_ratio_prob = uniform.pdf(sample['ear_head_ratio'], ear_head_ratio_a, ear_head_ratio_b - ear_head_ratio_a)\n",
    "        \n",
    "        # Ensure probabilities are not zero\n",
    "        height_prob = max(height_prob, epsilon)\n",
    "        weight_prob = max(weight_prob, epsilon)\n",
    "        bark_days_prob = max(bark_days_prob, epsilon)\n",
    "        ear_head_ratio_prob = max(ear_head_ratio_prob, epsilon)\n",
    "        \n",
    "        total_prob = height_prob * weight_prob * bark_days_prob * ear_head_ratio_prob\n",
    "        probabilities[category] = {\n",
    "            'height_prob': height_prob,\n",
    "            'weight_prob': weight_prob,\n",
    "            'bark_days_prob': bark_days_prob,\n",
    "            'ear_head_ratio_prob': ear_head_ratio_prob,\n",
    "            'total_prob': total_prob\n",
    "        }\n",
    "    \n",
    "    best_category = max(probabilities, key=lambda k: probabilities[k]['total_prob'])\n",
    "    return best_category, probabilities"
   ]
  },
  {
   "cell_type": "markdown",
   "metadata": {},
   "source": [
    "#### Function to get a sample from user input"
   ]
  },
  {
   "cell_type": "code",
   "execution_count": null,
   "metadata": {},
   "outputs": [],
   "source": [
    "def get_sample_from_input():\n",
    "    height = float(input(\"Enter the height: \"))\n",
    "    weight = float(input(\"Enter the weight: \"))\n",
    "    bark_days = int(input(\"Enter the bark_days: \"))\n",
    "    ear_head_ratio = float(input(\"Enter the ear_head_ratio: \"))\n",
    "    \n",
    "    return {\n",
    "        'height': height,\n",
    "        'weight': weight,\n",
    "        'bark_days': bark_days,\n",
    "        'ear_head_ratio': ear_head_ratio\n",
    "    }\n",
    "\n",
    "# Get sample from user input\n",
    "sample = get_sample_from_input()"
   ]
  },
  {
   "cell_type": "markdown",
   "metadata": {},
   "source": [
    "#### Classify the sample and print the results"
   ]
  },
  {
   "cell_type": "code",
   "execution_count": null,
   "metadata": {},
   "outputs": [],
   "source": [
    "predicted_class, detailed_probs = classify(sample, params)\n",
    "\n",
    "print(f'The predicted class for the sample is: {predicted_class}\\n')\n",
    "print('Detailed probabilities for each category:')\n",
    "for category, probs in detailed_probs.items():\n",
    "    print(f'Category {category}:')\n",
    "    print(f\"  Height Probability: {probs['height_prob']}\")\n",
    "    print(f\"  Weight Probability: {probs['weight_prob']}\")\n",
    "    print(f\"  Bark Days Probability: {probs['bark_days_prob']}\")\n",
    "    print(f\"  Ear Head Ratio Probability: {probs['ear_head_ratio_prob']}\")\n",
    "    print(f\"  Total Probability: {probs['total_prob']}\\n\")"
   ]
  },
  {
   "cell_type": "markdown",
   "metadata": {},
   "source": [
    "#### (Optional) Check and classify samples from 'sampleC/' directory"
   ]
  },
  {
   "cell_type": "code",
   "execution_count": null,
   "metadata": {},
   "outputs": [],
   "source": [
    "def check_sampleC_directory(params):\n",
    "    sampleC_path = 'sampleC/'\n",
    "    if os.path.exists(sampleC_path):\n",
    "        files = os.listdir(sampleC_path)\n",
    "        if files:\n",
    "            for file_name in files:\n",
    "                if file_name.endswith('.csv'):\n",
    "                    sample_data = pd.read_csv(os.path.join(sampleC_path, file_name))\n",
    "                    for index, row in sample_data.iterrows():\n",
    "                        sample = {\n",
    "                            'height': row['height'],\n",
    "                            'weight': row['weight'],\n",
    "                            'bark_days': row['bark_days'],\n",
    "                            'ear_head_ratio': row['ear_head_ratio']\n",
    "                        }\n",
    "                        predicted_class, detailed_probs = classify(sample, params)\n",
    "                        print(f'The predicted class for the sample in {file_name} (index {index}) is: {predicted_class}\\n')\n",
    "                        print('Detailed probabilities for each category:')\n",
    "                        for category, probs in detailed_probs.items():\n",
    "                            print(f'Category {category}:')\n",
    "                            print(f\"  Height Probability: {probs['height_prob']}\")\n",
    "                            print(f\"  Weight Probability: {probs['weight_prob']}\")\n",
    "                            print(f\"  Bark Days Probability: {probs['bark_days_prob']}\")\n",
    "                            print(f\"  Ear Head Ratio Probability: {probs['ear_head_ratio_prob']}\")\n",
    "                            print(f\"  Total Probability: {probs['total_prob']}\\n\")\n",
    "        else:\n",
    "            print(\"There is no sample to analyze\")\n",
    "\n",
    "# Uncomment the following line to run this function\n",
    "# check_sampleC_directory(params)"
   ]
  }
 ],
 "metadata": {
  "kernelspec": {
   "display_name": "Python 3",
   "language": "python",
   "name": "python3"
  },
  "language_info": {
   "codemirror_mode": {
    "name": "ipython",
    "version": 3
   },
   "file_extension": ".py",
   "mimetype": "text/x-python",
   "name": "python",
   "nbconvert_exporter": "python",
   "pygments_lexer": "ipython3",
   "version": "3.9.4"
  }
 },
 "nbformat": 4,
 "nbformat_minor": 2
}
